{
 "cells": [
  {
   "cell_type": "markdown",
   "metadata": {},
   "source": [
    "## 1. Calculate Area of a Circle"
   ]
  },
  {
   "cell_type": "markdown",
   "metadata": {},
   "source": [
    "#### Write a Python program which accepts the radius of a circle from the user and compute the area.\n",
    "###### Program Console Sample Output 1:\n",
    "###### Input Radius: 0.5\n",
    "###### Area of Circle with radius 0.5 is 0.7853981634"
   ]
  },
  {
   "cell_type": "code",
   "execution_count": 4,
   "metadata": {},
   "outputs": [
    {
     "name": "stdout",
     "output_type": "stream",
     "text": [
      "Value of Radius: 0.5\n",
      "Area of circle with Radius 0.5 is 0.7857142857142857\n"
     ]
    }
   ],
   "source": [
    "#FORMULA OF AREA OF CIRCLE A =pi * r ** 2\n",
    "\n",
    "#code:\n",
    "\n",
    "pi=22/7\n",
    "r = float(input(\"Value of Radius: \"))\n",
    "A=pi*r**2\n",
    "\n",
    "\n",
    "Answer=str(A)\n",
    "\n",
    "print('Area of circle with Radius',r,'is',Answer)"
   ]
  },
  {
   "cell_type": "code",
   "execution_count": null,
   "metadata": {},
   "outputs": [],
   "source": []
  },
  {
   "cell_type": "code",
   "execution_count": null,
   "metadata": {},
   "outputs": [],
   "source": []
  },
  {
   "cell_type": "markdown",
   "metadata": {},
   "source": [
    "## 2. Check Number either positive, negative or zero"
   ]
  },
  {
   "cell_type": "markdown",
   "metadata": {},
   "source": [
    "#### Write a Python program to check if a number is positive, negative or zero\n",
    "###### Program Console Sample Output 1:\n",
    "###### Enter Number: -1\n",
    "##### Negative Number Entered\n",
    "###### Program Console Sample Output 2:\n",
    "##### Integer: 3\n",
    "##### Positive Number Entered\n",
    "###### Program Console Sample Output 3:\n",
    "##### Integer: 0\n",
    "###### Zero Entered"
   ]
  },
  {
   "cell_type": "code",
   "execution_count": 5,
   "metadata": {},
   "outputs": [
    {
     "name": "stdout",
     "output_type": "stream",
     "text": [
      "Enter Number: 0\n",
      "Zero Entered\n"
     ]
    }
   ],
   "source": [
    "x = int(input('Enter Number: '))\n",
    "\n",
    "if x < 0:\n",
    "    print('Negative Number Enter ')\n",
    "\n",
    "elif x == 0:\n",
    "    print('Zero Entered')\n",
    "else:\n",
    "    print('Positive Number Enter ')"
   ]
  },
  {
   "cell_type": "code",
   "execution_count": 6,
   "metadata": {},
   "outputs": [
    {
     "name": "stdout",
     "output_type": "stream",
     "text": [
      "Enter Number: 3\n",
      "Positive Number Enter \n"
     ]
    }
   ],
   "source": [
    "x = int(input('Enter Number: '))\n",
    "\n",
    "if x < 0:\n",
    "    print('Negative Number Enter ')\n",
    "\n",
    "elif x == 0:\n",
    "    print('Zero Entered')\n",
    "else:\n",
    "    print('Positive Number Enter ')"
   ]
  },
  {
   "cell_type": "code",
   "execution_count": 7,
   "metadata": {},
   "outputs": [
    {
     "name": "stdout",
     "output_type": "stream",
     "text": [
      "Enter Number: -1\n",
      "Negative Number Enter \n"
     ]
    }
   ],
   "source": [
    "x = int(input('Enter Number: '))\n",
    "\n",
    "if x < 0:\n",
    "    print('Negative Number Enter ')\n",
    "\n",
    "elif x == 0:\n",
    "    print('Zero Entered')\n",
    "else:\n",
    "    print('Positive Number Enter ')"
   ]
  },
  {
   "cell_type": "code",
   "execution_count": null,
   "metadata": {},
   "outputs": [],
   "source": []
  },
  {
   "cell_type": "markdown",
   "metadata": {},
   "source": [
    "## 3. Divisibility Check of two numbers"
   ]
  },
  {
   "cell_type": "markdown",
   "metadata": {},
   "source": [
    "#### Write a Python program to check whether a number is completely divisible by another number. Accept two integer values form the user\n",
    "##### Program Console Sample Output 1:\n",
    "###### Enter numerator: 4\n",
    "###### Enter Denominator: 2\n",
    "##### Number 4 is Completely divisible by 2\n",
    "###### Program Console Sample Output 2:\n",
    "##### Enter numerator: 7\n",
    "\n",
    "##### Enter Denominator: 4\n",
    "###### Number 7 is not Completely divisible by 4"
   ]
  },
  {
   "cell_type": "code",
   "execution_count": 8,
   "metadata": {},
   "outputs": [
    {
     "name": "stdout",
     "output_type": "stream",
     "text": [
      "Enter Nominator: 4\n",
      "Enter Denominator: 2\n",
      "Number  4 is completely divisible by  2\n"
     ]
    }
   ],
   "source": [
    "Number1 = int(input('Enter Nominator: '))\n",
    "\n",
    "Number2 = int(input('Enter Denominator: '))\n",
    "\n",
    "if Number1 % Number2 == 0:\n",
    "    print('Number ',Number1,'is completely divisible by ',Number2)\n",
    "else:\n",
    "    print('Number ',Number1,'is not completely divisible  by ',Number2)"
   ]
  },
  {
   "cell_type": "code",
   "execution_count": 9,
   "metadata": {},
   "outputs": [
    {
     "name": "stdout",
     "output_type": "stream",
     "text": [
      "Enter Nominator: 7\n",
      "Enter Denominator: 4\n",
      "Number  7 is not completely divisible  by  4\n"
     ]
    }
   ],
   "source": [
    "Number1 = int(input('Enter Nominator: '))\n",
    "\n",
    "Number2 = int(input('Enter Denominator: '))\n",
    "\n",
    "if Number1 % Number2 == 0:\n",
    "    print('Number ',Number1,'is completely divisible by ',Number2)\n",
    "else:\n",
    "    print('Number ',Number1,'is not completely divisible  by ',Number2)"
   ]
  },
  {
   "cell_type": "code",
   "execution_count": null,
   "metadata": {},
   "outputs": [],
   "source": []
  },
  {
   "cell_type": "code",
   "execution_count": null,
   "metadata": {},
   "outputs": [],
   "source": []
  },
  {
   "cell_type": "code",
   "execution_count": null,
   "metadata": {},
   "outputs": [],
   "source": []
  },
  {
   "cell_type": "code",
   "execution_count": null,
   "metadata": {},
   "outputs": [],
   "source": []
  },
  {
   "cell_type": "markdown",
   "metadata": {},
   "source": [
    "## 4. Calculate Volume of a sphere"
   ]
  },
  {
   "cell_type": "markdown",
   "metadata": {},
   "source": [
    "##### Write a Python program to get the volume of a sphere, please take the radius as input from user"
   ]
  },
  {
   "cell_type": "markdown",
   "metadata": {},
   "source": [
    "##### Program Console Output:\n",
    "##### Enter Radius of Sphere: 1\n",
    "###### Volume of the Sphere with Radius 1 is 4.18"
   ]
  },
  {
   "cell_type": "code",
   "execution_count": 10,
   "metadata": {},
   "outputs": [
    {
     "name": "stdout",
     "output_type": "stream",
     "text": [
      "Enter Radius of Sphere: 1\n",
      "Volume of the shpere with Radius  1 is  4.19047619047619\n"
     ]
    }
   ],
   "source": [
    "Radius = int(input('Enter Radius of Sphere: '))\n",
    "\n",
    "# FORMULA OF VOLUME OF SPHERE = (4/3) * Pi * r ** 3\n",
    "\n",
    "pi = 22/7\n",
    "\n",
    "Volume=(4/3) * pi * Radius ** 3\n",
    "\n",
    "Answer=Volume\n",
    "\n",
    "print('Volume of the shpere with Radius ',Radius,'is ',Answer)"
   ]
  },
  {
   "cell_type": "code",
   "execution_count": null,
   "metadata": {},
   "outputs": [],
   "source": []
  },
  {
   "cell_type": "code",
   "execution_count": null,
   "metadata": {},
   "outputs": [],
   "source": []
  },
  {
   "cell_type": "code",
   "execution_count": null,
   "metadata": {},
   "outputs": [],
   "source": []
  },
  {
   "cell_type": "code",
   "execution_count": null,
   "metadata": {},
   "outputs": [],
   "source": []
  },
  {
   "cell_type": "markdown",
   "metadata": {},
   "source": [
    "## 5. Copy string n times\n",
    "#### Write a Python program to get a string which is n (non-negative integer) copies of a given string.\n",
    "##### Program Console Output:\n",
    "##### Enter String: Hi\n",
    "###### How many copies of String you need: 4\n",
    "###### 4 Copies of Hi are HiHiHiHi"
   ]
  },
  {
   "cell_type": "code",
   "execution_count": 11,
   "metadata": {},
   "outputs": [
    {
     "name": "stdout",
     "output_type": "stream",
     "text": [
      "Enter String: Hi\n",
      "How many copies of String you need: 4\n",
      "4 Copies of Hi are HiHiHiHi\n"
     ]
    }
   ],
   "source": [
    "x = str(input('Enter String: '))\n",
    "\n",
    "y = int(input('How many copies of String you need: '))\n",
    "\n",
    "z= x * y\n",
    "\n",
    "print(y,'Copies of',x,'are',z)"
   ]
  },
  {
   "cell_type": "code",
   "execution_count": null,
   "metadata": {},
   "outputs": [],
   "source": []
  },
  {
   "cell_type": "code",
   "execution_count": null,
   "metadata": {},
   "outputs": [],
   "source": []
  },
  {
   "cell_type": "code",
   "execution_count": null,
   "metadata": {},
   "outputs": [],
   "source": []
  },
  {
   "cell_type": "code",
   "execution_count": null,
   "metadata": {},
   "outputs": [],
   "source": []
  },
  {
   "cell_type": "markdown",
   "metadata": {},
   "source": [
    "## 6. Check if number is Even or Odd\n",
    "### Write a Python program to find whether a given number (accept from the user) is even or odd, print out an appropriate message to the user\n",
    "#### Program Console Output 1:\n",
    "##### Enter Number: 4\n",
    "###### 4 is Even\n",
    "#### Program Console Output 2:\n",
    "##### Enter Number: 9\n",
    "###### 9 is Odd"
   ]
  },
  {
   "cell_type": "code",
   "execution_count": 12,
   "metadata": {},
   "outputs": [
    {
     "name": "stdout",
     "output_type": "stream",
     "text": [
      "Enter Number: 4\n",
      "4 is Even\n"
     ]
    }
   ],
   "source": [
    "x = int(input('Enter Number: '))\n",
    "\n",
    "if x % 2 == 0:\n",
    "    print(x,'is Even')\n",
    "else:\n",
    "    print(x,'is Odd')"
   ]
  },
  {
   "cell_type": "code",
   "execution_count": 13,
   "metadata": {},
   "outputs": [
    {
     "name": "stdout",
     "output_type": "stream",
     "text": [
      "Enter Number: 9\n",
      "9 is Odd\n"
     ]
    }
   ],
   "source": [
    "x = int(input('Enter Number: '))\n",
    "\n",
    "if x % 2 == 0:\n",
    "    print(x,'is Even')\n",
    "else:\n",
    "    print(x,'is Odd')"
   ]
  },
  {
   "cell_type": "code",
   "execution_count": null,
   "metadata": {},
   "outputs": [],
   "source": []
  },
  {
   "cell_type": "code",
   "execution_count": null,
   "metadata": {},
   "outputs": [],
   "source": []
  },
  {
   "cell_type": "code",
   "execution_count": null,
   "metadata": {},
   "outputs": [],
   "source": []
  },
  {
   "cell_type": "markdown",
   "metadata": {},
   "source": [
    "## 7. Vowel Tester\n",
    "### Write a Python program to test whether a passed letter is a vowel or not\n",
    "#### Program Console Output 1:\n",
    "##### Enter a character: A\n",
    "###### Letter A is Vowel\n",
    "#### Program Console Output 2:\n",
    "##### Enter a character: e\n",
    "###### Letter e is Vowel\n",
    "#### Program Console Output 2:\n",
    "##### Enter a character: N\n",
    "###### Letter N is not Vowel"
   ]
  },
  {
   "cell_type": "code",
   "execution_count": 14,
   "metadata": {},
   "outputs": [
    {
     "name": "stdout",
     "output_type": "stream",
     "text": [
      "Enter a character: A\n",
      "Letter A is Vowel\n"
     ]
    }
   ],
   "source": [
    "Letter = str(input('Enter a character: '))\n",
    "\n",
    "VOWELS= ['a','e','i','o','u','A','E','I','O','U']\n",
    "\n",
    "\n",
    "if Letter in VOWELS:\n",
    "    print('Letter',Letter,'is Vowel')\n",
    "else:\n",
    "    print('Letter',Letter,'is not Vowel')"
   ]
  },
  {
   "cell_type": "code",
   "execution_count": 15,
   "metadata": {},
   "outputs": [
    {
     "name": "stdout",
     "output_type": "stream",
     "text": [
      "Enter a character: e\n",
      "Letter e is Vowel\n"
     ]
    }
   ],
   "source": [
    "Letter = str(input('Enter a character: '))\n",
    "\n",
    "VOWELS= ['a','e','i','o','u','A','E','I','O','U']\n",
    "\n",
    "\n",
    "if Letter in VOWELS:\n",
    "    print('Letter',Letter,'is Vowel')\n",
    "else:\n",
    "    print('Letter',Letter,'is not Vowel')"
   ]
  },
  {
   "cell_type": "code",
   "execution_count": 16,
   "metadata": {},
   "outputs": [
    {
     "name": "stdout",
     "output_type": "stream",
     "text": [
      "Enter a character: N\n",
      "Letter N is not Vowel\n"
     ]
    }
   ],
   "source": [
    "Letter = str(input('Enter a character: '))\n",
    "\n",
    "VOWELS= ['a','e','i','o','u','A','E','I','O','U']\n",
    "\n",
    "\n",
    "if Letter in VOWELS:\n",
    "    print('Letter',Letter,'is Vowel')\n",
    "else:\n",
    "    print('Letter',Letter,'is not Vowel')"
   ]
  },
  {
   "cell_type": "code",
   "execution_count": null,
   "metadata": {},
   "outputs": [],
   "source": []
  },
  {
   "cell_type": "markdown",
   "metadata": {},
   "source": [
    "## 8. Triangle area\n",
    "### Write a Python program that will accept the base and height of a triangle and compute the area\n",
    "###### Reference:\n",
    "https://www.mathgoodies.com/lessons/vol1/area_triangle"
   ]
  },
  {
   "cell_type": "code",
   "execution_count": 17,
   "metadata": {},
   "outputs": [
    {
     "name": "stdout",
     "output_type": "stream",
     "text": [
      "Enter the height of triangle: 2\n",
      "Enter the base of triangle: 5\n",
      "when height is  2\n",
      "when base is  5\n",
      "The area of triangle is:  5\n"
     ]
    }
   ],
   "source": [
    "height = int(input('Enter the height of triangle: '))\n",
    "\n",
    "base = int(input('Enter the base of triangle: '))\n",
    "\n",
    "Area_of_triangle = height * base /2\n",
    "\n",
    "print('when height is ',height)\n",
    "print('when base is ',base)\n",
    "print('The area of triangle is: ',int(Area_of_triangle))"
   ]
  },
  {
   "cell_type": "code",
   "execution_count": null,
   "metadata": {},
   "outputs": [],
   "source": []
  },
  {
   "cell_type": "code",
   "execution_count": null,
   "metadata": {},
   "outputs": [],
   "source": []
  },
  {
   "cell_type": "code",
   "execution_count": null,
   "metadata": {},
   "outputs": [],
   "source": []
  },
  {
   "cell_type": "markdown",
   "metadata": {},
   "source": [
    "## 9. Calculate Interest\n",
    "### Write a Python program to compute the future value of a specified principal amount, rate of interest, and a number of years\n",
    "#### Program Console Sample 1:\n",
    "##### Please enter principal amount: 10000\n",
    "###### Please Enter Rate of interest in %: 0.1\n",
    "###### Enter number of years for investment: 5\n",
    "###### After 5 years your principal amount 10000 over an interest rate of 0.1 % will be 16105.1"
   ]
  },
  {
   "cell_type": "code",
   "execution_count": 18,
   "metadata": {},
   "outputs": [
    {
     "name": "stdout",
     "output_type": "stream",
     "text": [
      "Please enter principal amount: 10000\n",
      "Please enter rate of interest in %: 0.1\n",
      "Enter number of years for investment: 5\n",
      "after 5  years your principal amount 10000 over an interset rate of  0.1 % will be 16105.100000000006\n"
     ]
    }
   ],
   "source": [
    "principal_amount=int(input('Please enter principal amount: '))\n",
    "\n",
    "rate_of_interest=float(input(\"Please enter rate of interest in %: \"))\n",
    "\n",
    "years=int(input('Enter number of years for investment: '))\n",
    "\n",
    "rate = rate_of_interest * 100\n",
    "\n",
    "interest_rate = principal_amount * ((1+(rate/100)) ** years)\n",
    "\n",
    "print('after',years, ' years your principal amount',principal_amount,'over an interset rate of ',rate_of_interest,'% will be',interest_rate)"
   ]
  },
  {
   "cell_type": "code",
   "execution_count": null,
   "metadata": {},
   "outputs": [],
   "source": []
  },
  {
   "cell_type": "code",
   "execution_count": null,
   "metadata": {},
   "outputs": [],
   "source": []
  },
  {
   "cell_type": "code",
   "execution_count": null,
   "metadata": {},
   "outputs": [],
   "source": []
  },
  {
   "cell_type": "code",
   "execution_count": null,
   "metadata": {},
   "outputs": [],
   "source": []
  },
  {
   "cell_type": "code",
   "execution_count": null,
   "metadata": {},
   "outputs": [],
   "source": []
  },
  {
   "cell_type": "markdown",
   "metadata": {},
   "source": [
    "## 10. Euclidean distance\n",
    "### write a Python program to compute the distance between the points (x1, y1) and (x2, y2).\n",
    "#### Program Console Sample 1:\n",
    "###### Enter Co-ordinate for x1: 2\n",
    "###### Enter Co-ordinate for x2: 4\n",
    "###### Enter Co-ordinate for y1: 4\n",
    "###### Enter Co-ordinate for y2: 4\n",
    "###### Distance between points (2, 4) and (4, 4) is 2"
   ]
  },
  {
   "cell_type": "markdown",
   "metadata": {},
   "source": [
    "###### Reference:\n",
    "https://en.wikipedia.org/wiki/Euclidean_distance"
   ]
  },
  {
   "cell_type": "code",
   "execution_count": 19,
   "metadata": {},
   "outputs": [
    {
     "name": "stdout",
     "output_type": "stream",
     "text": [
      "enter Co-ordinate x1: 2\n",
      "enter Co-ordinate x2: 4\n",
      "enter Co-ordinate y1: 4\n",
      "enter Co-ordinate y2: 4\n",
      "Distance between points(2, 4) and (4, 4) is 2\n"
     ]
    }
   ],
   "source": [
    "x1 = int(input('enter Co-ordinate x1: '))\n",
    "x2 = int(input('enter Co-ordinate x2: '))\n",
    "y1 = int(input('enter Co-ordinate y1: '))\n",
    "y2 = int(input('enter Co-ordinate y2: '))\n",
    "\n",
    "D = ((y2-y1)**2 + (x2-x1)**2)**1/2\n",
    "\n",
    "print(f'Distance between points{x1,x2} and {y1,y2} is',int(D))"
   ]
  },
  {
   "cell_type": "code",
   "execution_count": null,
   "metadata": {},
   "outputs": [],
   "source": []
  },
  {
   "cell_type": "code",
   "execution_count": null,
   "metadata": {},
   "outputs": [],
   "source": []
  },
  {
   "cell_type": "code",
   "execution_count": null,
   "metadata": {},
   "outputs": [],
   "source": []
  },
  {
   "cell_type": "markdown",
   "metadata": {},
   "source": [
    "## 11. Feet to Centimeter Converter\n",
    "### Write a Python program to convert height in feet to centimetres.\n",
    "##### Program Console Sample 1:\n",
    "###### Enter Height in Feet: 5\n",
    "###### There are 152.4 Cm in 5 ft\n",
    "###### Reference:\n",
    "https://www.rapidtables.com/convert/length/feet-to-cm.html"
   ]
  },
  {
   "cell_type": "code",
   "execution_count": 20,
   "metadata": {},
   "outputs": [
    {
     "name": "stdout",
     "output_type": "stream",
     "text": [
      "Enter height in feet: 5\n",
      "there are 152.4 Cm in  5 ft\n"
     ]
    }
   ],
   "source": [
    "feet = int(input('Enter height in feet: '))\n",
    "\n",
    "Q = feet * 30.48\n",
    "\n",
    "print('there are',Q, 'Cm in ',feet,'ft')"
   ]
  },
  {
   "cell_type": "code",
   "execution_count": null,
   "metadata": {},
   "outputs": [],
   "source": []
  },
  {
   "cell_type": "code",
   "execution_count": null,
   "metadata": {},
   "outputs": [],
   "source": []
  },
  {
   "cell_type": "code",
   "execution_count": null,
   "metadata": {},
   "outputs": [],
   "source": []
  },
  {
   "cell_type": "markdown",
   "metadata": {},
   "source": [
    "## 12. BMI Calculator\n",
    "### Write a Python program to calculate body mass index\n",
    "##### Program Console Sample 1:\n",
    "###### Enter Height in Cm: 180\n",
    "###### Enter Weight in Kg: 75\n",
    "###### Your BMI is 23.15"
   ]
  },
  {
   "cell_type": "code",
   "execution_count": 21,
   "metadata": {},
   "outputs": [
    {
     "name": "stdout",
     "output_type": "stream",
     "text": [
      "Enter Height in Cm: 180\n",
      "Enter Weight in Kg: 75\n",
      "your BMI is 23.148148148148145\n"
     ]
    }
   ],
   "source": [
    "Body_height=int(input('Enter Height in Cm: '))\n",
    "\n",
    "Body_Weight=int(input('Enter Weight in Kg: '))\n",
    "\n",
    "C = (Body_height/100)**2\n",
    "\n",
    "Q = Body_Weight/C\n",
    "\n",
    "print('your BMI is' ,Q)"
   ]
  },
  {
   "cell_type": "code",
   "execution_count": null,
   "metadata": {},
   "outputs": [],
   "source": []
  },
  {
   "cell_type": "code",
   "execution_count": null,
   "metadata": {},
   "outputs": [],
   "source": []
  },
  {
   "cell_type": "markdown",
   "metadata": {},
   "source": [
    "## 13. Sum of n Positive Integers\n",
    "### Write a python program to sum of the first n positive integers\n",
    "#### Program Console Sample 1:\n",
    "###### Enter value of n: 5\n",
    "###### Sum of n Positive integers till 5 is 15"
   ]
  },
  {
   "cell_type": "code",
   "execution_count": 22,
   "metadata": {},
   "outputs": [
    {
     "name": "stdout",
     "output_type": "stream",
     "text": [
      "enter value of n: 5\n",
      "sum of n positive integers till 5 is 15\n"
     ]
    }
   ],
   "source": [
    "Nth_value=int(input('enter value of n: ' ))\n",
    "\n",
    "Trick=(1/2*(Nth_value*(Nth_value+1)))\n",
    "\n",
    "print('sum of n positive integers till',Nth_value,'is',int(Trick))"
   ]
  },
  {
   "cell_type": "code",
   "execution_count": null,
   "metadata": {},
   "outputs": [],
   "source": []
  },
  {
   "cell_type": "code",
   "execution_count": null,
   "metadata": {},
   "outputs": [],
   "source": []
  },
  {
   "cell_type": "markdown",
   "metadata": {},
   "source": [
    "## 14. Digits Sum of a Number\n",
    "### Write a Python program to calculate the sum of the digits in an integer\n",
    "#### Program Console Sample 1:\n",
    "##### Enter a number: 15\n",
    "###### Sum of 1 + 5 is 6\n",
    "#### Program Console Sample 2:\n",
    "##### Enter a number: 1234\n",
    "###### Sum of 1 + 2 + 3 + 4 is 10"
   ]
  },
  {
   "cell_type": "code",
   "execution_count": 23,
   "metadata": {},
   "outputs": [
    {
     "name": "stdout",
     "output_type": "stream",
     "text": [
      "enter a number: 15\n",
      "Sum of 1+5+ is 6\n"
     ]
    }
   ],
   "source": [
    "Num =input('enter a number: ')\n",
    "\n",
    "sum = 0\n",
    "p=0\n",
    "for i in Num:\n",
    "    sum+=int(i)\n",
    "Num=Num.replace('','+',sum)\n",
    "Num=Num.replace('+','',1)\n",
    "for i in Num:\n",
    "    p+=sum\n",
    "print(f'Sum of {Num} is {sum}')"
   ]
  },
  {
   "cell_type": "code",
   "execution_count": 24,
   "metadata": {},
   "outputs": [
    {
     "name": "stdout",
     "output_type": "stream",
     "text": [
      "enter a number: 1234\n",
      "Sum of 1+2+3+4+ is 10\n"
     ]
    }
   ],
   "source": [
    "Num =input('enter a number: ')\n",
    "\n",
    "sum = 0\n",
    "p=0\n",
    "for i in Num:\n",
    "    sum+=int(i)\n",
    "Num=Num.replace('','+',sum)\n",
    "Num=Num.replace('+','',1)\n",
    "for i in Num:\n",
    "    p+=sum\n",
    "print(f'Sum of {Num} is {sum}')"
   ]
  },
  {
   "cell_type": "code",
   "execution_count": null,
   "metadata": {},
   "outputs": [],
   "source": []
  },
  {
   "cell_type": "code",
   "execution_count": null,
   "metadata": {},
   "outputs": [],
   "source": []
  },
  {
   "cell_type": "code",
   "execution_count": null,
   "metadata": {},
   "outputs": [],
   "source": []
  },
  {
   "cell_type": "code",
   "execution_count": null,
   "metadata": {},
   "outputs": [],
   "source": []
  },
  {
   "cell_type": "code",
   "execution_count": null,
   "metadata": {},
   "outputs": [],
   "source": []
  },
  {
   "cell_type": "code",
   "execution_count": null,
   "metadata": {},
   "outputs": [],
   "source": []
  }
 ],
 "metadata": {
  "kernelspec": {
   "display_name": "Python 3",
   "language": "python",
   "name": "python3"
  },
  "language_info": {
   "codemirror_mode": {
    "name": "ipython",
    "version": 3
   },
   "file_extension": ".py",
   "mimetype": "text/x-python",
   "name": "python",
   "nbconvert_exporter": "python",
   "pygments_lexer": "ipython3",
   "version": "3.6.4"
  }
 },
 "nbformat": 4,
 "nbformat_minor": 2
}
